{
 "cells": [
  {
   "cell_type": "markdown",
   "metadata": {},
   "source": [
    "<img src=\"img/saturn_logo.png\" width=\"300\" />\n",
    "\n",
    "# Introduction to PyTorch with Dask\n",
    "\n",
    "## Welcome!\n",
    "\n",
    "This workshop is meant to help users of PyTorch for deep learning get familiar with some useful concepts in Dask that can make your work faster and easier. We will specifically be looking at Computer Vision tasks for our examples, but Pytorch and Dask can be used for many other kinds of deep learning cases.\n",
    "\n",
    "After this workshop, you will know:\n",
    "* Basics of how Dask works\n",
    "* How to run inference with a pretrained model on Dask cluster\n",
    "* How to run transfer learning on Dask cluster\n",
    "\n",
    "***\n",
    "\n",
    "## Saturn Cloud concepts\n",
    "\n",
    "### Projects\n",
    "\n",
    "A \"Project\" is where all the work done in Saturn Cloud resides. Each user can have multiple projects, and these projects can be shared between users. The services associated with each project are called \"Resources\" and they are organized in the following manner:\n",
    "\n",
    "```\n",
    "└── Project\n",
    "    ├── Jupyter Server (*)\n",
    "    │   └── Dask Cluster\n",
    "    ├── Deployment\n",
    "    │   └── Dask Cluster\n",
    "```\n",
    "\n",
    "(*) Every Project has a Jupyter Server, while Dask Clusters and Deployments are optional.\n",
    "\n",
    "### Images\n",
    "\n",
    "An \"Image\" is a Docker image that contains a Python environment to be attached to various Resources. A Project is set to use one Image, and all Resources in that Project will utilize the same Image.\n",
    "\n",
    "Saturn Cloud includes pre-built images for users to get up and running quickly. Users can create custom images by navigating to the \"Images\" tab from the Saturn Cloud UI.\n",
    "\n",
    "### Jupyter Server\n",
    "\n",
    "This resource runs the Jupyter Notebook and Jupyter Lab interfaces. Most time will likely be spent \"inside\" one of these Jupyter interfaces. \n",
    "\n",
    "### Dask Cluster\n",
    "\n",
    "A Dask Cluster can be attached to a Jupyter Server to scale out work. Clusters are composed of a scheduler instance and any number of worker instances. Clusters can be created and started/stopped from the Saturn Cloud UI. The [dask-saturn](https://github.com/saturncloud/dask-saturn) package is the interface for working with Dask Clusters in a notebook or script within a Jupyter Server, and can also be used to start, stop, or resize the cluster.\n",
    "\n",
    "### Deployment\n",
    "\n",
    "A \"Deployment\" is a resource that is created to serve an always-on or scheduled workload such as serving a machine learning model, hosting a dashboard via a web app, or an ETL job. It utilizes the same project Image and code from the Jupyter Server, and can optional have its own Dask cluster assigned to it.\n",
    "\n",
    "Deployments will not be covered in this workshop.\n",
    "\n",
    "### Code and data files\n",
    "\n",
    "The filesystem of a Jupyter Server is maintained on persistent volumes, so any code or files created/uploaded will remain there after shutting down the server. \n",
    "\n",
    "However, all files are not sent to associated Dask cluster workers or Deployments because those are different machines with their own filesystems. \n",
    "\n",
    "**Code**: Code maintained in the `/home/jovyan/project` folder or through the Repositories feature will be sent to the resources when they are turned on. \n",
    "\n",
    "**Data files**: Data files should be managed outside of Saturn Cloud in systems such as S3 or a database. This ensures each worker in a Dask cluster has access to the data.\n",
    "\n",
    "### Advanced settings\n",
    "\n",
    "Advanced settings for Projects include Environment Variables and Start Scripts. These will not be covered in the workshop, but more information can be found in the [Saturn Cloud docs](https://www.saturncloud.io/docs/getting-started/spinning/jupyter/#advanced-settings)."
   ]
  },
  {
   "cell_type": "markdown",
   "metadata": {},
   "source": [
    "***\n",
    "\n",
    "## How to Connect a Cluster"
   ]
  },
  {
   "cell_type": "code",
   "execution_count": null,
   "metadata": {},
   "outputs": [],
   "source": [
    "from dask_saturn import SaturnCluster\n",
    "from dask.distributed import Client\n",
    "\n",
    "cluster = SaturnCluster()\n",
    "client = Client(cluster)\n",
    "client.wait_for_workers(3)\n",
    "\n",
    "print('Hello, world!')"
   ]
  },
  {
   "cell_type": "markdown",
   "metadata": {},
   "source": [
    "Since we are working on GPU machines for this tutorial, we should check and make sure all our workers and this Jupyter instance have GPU resources."
   ]
  },
  {
   "cell_type": "code",
   "execution_count": null,
   "metadata": {},
   "outputs": [],
   "source": [
    "import torch\n",
    "\n",
    "torch.cuda.is_available() "
   ]
  },
  {
   "cell_type": "code",
   "execution_count": null,
   "metadata": {},
   "outputs": [],
   "source": [
    "client.run(lambda: torch.cuda.is_available())"
   ]
  },
  {
   "cell_type": "markdown",
   "metadata": {},
   "source": [
    "## Access data\n",
    "\n",
    "This workshop will be using the [Stanford Dogs Dataset]( http://vision.stanford.edu/aditya86/ImageNetDogs/)."
   ]
  },
  {
   "cell_type": "code",
   "execution_count": null,
   "metadata": {},
   "outputs": [],
   "source": [
    "import s3fs\n",
    "\n",
    "s3 = s3fs.S3FileSystem(anon=True)\n",
    "s3.glob('s3://saturn-public-data/dogs/Images/*/*.jpg')[-10:]"
   ]
  },
  {
   "cell_type": "markdown",
   "metadata": {},
   "source": [
    "If you feel comfortable with all that, then we can begin with [Notebook 2](02-dask-basics.ipynb)!"
   ]
  },
  {
   "cell_type": "markdown",
   "metadata": {},
   "source": [
    "<img src=\"https://media.giphy.com/media/XZrOvaUvmsCYL31HIe/giphy.gif\" alt=\"go\" style=\"width: 200px;\"/>"
   ]
  }
 ],
 "metadata": {
  "kernelspec": {
   "display_name": "saturn (Python 3)",
   "language": "python",
   "name": "python3"
  },
  "language_info": {
   "codemirror_mode": {
    "name": "ipython",
    "version": 3
   },
   "file_extension": ".py",
   "mimetype": "text/x-python",
   "name": "python",
   "nbconvert_exporter": "python",
   "pygments_lexer": "ipython3",
   "version": "3.7.7"
  }
 },
 "nbformat": 4,
 "nbformat_minor": 4
}

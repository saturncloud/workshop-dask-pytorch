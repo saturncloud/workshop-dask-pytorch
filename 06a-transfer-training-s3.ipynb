{
 "cells": [
  {
   "cell_type": "markdown",
   "metadata": {},
   "source": [
    "<img src=\"img/saturn_logo.png\" width=\"300\" />\n",
    "\n",
    "# Set Up Training\n",
    "\n",
    "We don't need to run all of Notebook 5 again, we'll just call `setup2.py` in the next chunk to get ourselves back to the right state. This also includes the reindexing work from Notebook 5, and a couple of visualization functions that we'll talk about later."
   ]
  },
  {
   "cell_type": "code",
   "execution_count": 1,
   "metadata": {},
   "outputs": [
    {
     "name": "stderr",
     "output_type": "stream",
     "text": [
      "INFO:dask-saturn:Cluster is ready\n",
      "INFO:dask-saturn:Registering default plugins\n",
      "INFO:dask-saturn:{'tcp://10.0.13.28:38103': {'status': 'repeat'}, 'tcp://10.0.14.218:37639': {'status': 'repeat'}, 'tcp://10.0.15.129:41119': {'status': 'repeat'}, 'tcp://10.0.15.232:45543': {'status': 'repeat'}, 'tcp://10.0.19.18:44495': {'status': 'repeat'}, 'tcp://10.0.23.201:38065': {'status': 'repeat'}, 'tcp://10.0.4.26:45203': {'status': 'repeat'}}\n"
     ]
    },
    {
     "data": {
      "text/html": [
       "\n",
       "<b>Cluster Dashboard links</b>\n",
       "<ul>\n",
       "<li><a href=\"https://d-steph-gpu-batch-inference-55feb18456de488295b5ddbe998c1abc.internal.saturnenterprise.io/status\" target=\"_blank\">CPU dashboard</a></li>\n",
       "<li><a href=\"https://d-steph-gpu-batch-inference-55feb18456de488295b5ddbe998c1abc.internal.saturnenterprise.io/individual-gpu-utilization\" target=\"_blank\">GPU utilization</a></li>\n",
       "<li><a href=\"https://d-steph-gpu-batch-inference-55feb18456de488295b5ddbe998c1abc.internal.saturnenterprise.io/individual-gpu-memory\" target=\"_blank\">GPU memory</a></li>\n",
       "</ul>\n"
      ],
      "text/plain": [
       "<IPython.core.display.HTML object>"
      ]
     },
     "metadata": {},
     "output_type": "display_data"
    }
   ],
   "source": [
    "%run -i setup2.py\n",
    "\n",
    "display(HTML(gpu_links))"
   ]
  },
  {
   "cell_type": "code",
   "execution_count": 2,
   "metadata": {},
   "outputs": [],
   "source": [
    "import torch\n",
    "from tensorboardX import SummaryWriter\n",
    "#from torch.utils.tensorboard import SummaryWriter\n",
    "\n",
    "from torch import nn, optim\n",
    "from torch.nn.parallel import DistributedDataParallel as DDP\n",
    "\n",
    "from torchvision import datasets, transforms, models\n",
    "from torch.utils.data import DataLoader\n",
    "from torch.utils.data.sampler import SubsetRandomSampler\n",
    "\n",
    "import torch.distributed as dist\n",
    "from torch.optim import lr_scheduler"
   ]
  },
  {
   "cell_type": "code",
   "execution_count": 3,
   "metadata": {},
   "outputs": [
    {
     "data": {
      "text/html": [
       "<table style=\"border: 2px solid white;\">\n",
       "<tr>\n",
       "<td style=\"vertical-align: top; border: 0px solid white\">\n",
       "<h3 style=\"text-align: left;\">Client</h3>\n",
       "<ul style=\"text-align: left; list-style: none; margin: 0; padding: 0;\">\n",
       "  <li><b>Scheduler: </b>tcp://d-steph-gpu-batch-inference-55feb18456de488295b5ddbe998c1abc.main-namespace:8786</li>\n",
       "  <li><b>Dashboard: </b><a href='https://d-steph-gpu-batch-inference-55feb18456de488295b5ddbe998c1abc.internal.saturnenterprise.io' target='_blank'>https://d-steph-gpu-batch-inference-55feb18456de488295b5ddbe998c1abc.internal.saturnenterprise.io</a></li>\n",
       "</ul>\n",
       "</td>\n",
       "<td style=\"vertical-align: top; border: 0px solid white\">\n",
       "<h3 style=\"text-align: left;\">Cluster</h3>\n",
       "<ul style=\"text-align: left; list-style:none; margin: 0; padding: 0;\">\n",
       "  <li><b>Workers: </b>7</li>\n",
       "  <li><b>Cores: </b>56</li>\n",
       "  <li><b>Memory: </b>423.50 GB</li>\n",
       "</ul>\n",
       "</td>\n",
       "</tr>\n",
       "</table>"
      ],
      "text/plain": [
       "<Client: 'tcp://10.0.9.0:8786' processes=7 threads=56, memory=423.50 GB>"
      ]
     },
     "execution_count": 3,
     "metadata": {},
     "output_type": "execute_result"
    }
   ],
   "source": [
    "client"
   ]
  },
  {
   "cell_type": "markdown",
   "metadata": {},
   "source": [
    "We're ready to do some learning! \n",
    "\n",
    "## Regular Model Details\n",
    "\n",
    "Aside from the Special Elements noted below, we can write this section essentially the same way we write any other PyTorch training loop. \n",
    "* Cross Entropy Loss for our loss function\n",
    "* SGD (Stochastic Gradient Descent) for our optimizer\n",
    "\n",
    "We're also using a particular learning rate scheduler called `ReduceLROnPlateau` which leaves our base learning rate alone until the model's efforts hit a plateau and the loss function is no longer decreasing.\n",
    "\n",
    "We have two stages in this process, as well - training and evaluation. We run the training set completely using batches of 100 before we move to the evaluation step, where we run the eval set completely also using batches of 100."
   ]
  },
  {
   "cell_type": "markdown",
   "metadata": {},
   "source": [
    "***\n",
    "\n",
    "## Special Elements\n",
    "\n",
    "Most of the training workflow function shown below is pretty standard for users of PyTorch. However, there are a couple of elements that are different.\n",
    "\n",
    "### Tensorboard Writer\n",
    "\n",
    "We're using Tensorboard to monitor the model's performance, so we'll create a SummaryWriter object in our training function, and use that to write out statistics and sample image classifications. "
   ]
  },
  {
   "cell_type": "markdown",
   "metadata": {},
   "source": [
    "\n",
    "### Worker Rank\n",
    "```\n",
    "worker_rank = int(dist.get_rank())\n",
    "```\n",
    "\n",
    "This is checking to see which of the workers in the cluster we're on. This way, our results records can tell which worker this performance represents.\n",
    "\n",
    "\n",
    "### Model to GPU Resources\n",
    "\n",
    "```\n",
    "device = torch.device(0)\n",
    "net = models.resnet50(pretrained=True)\n",
    "model = net.to(device)\n",
    "```\n",
    "\n",
    "As you'll recall from Notebook 4, we need to make sure our model is assigned to a GPU resource- here we do it one time before the training loops begin. We will also assign each image and its label to a GPU resource within the training and evaluation loops - see if you can find this spot, you need to fill in the blanks!\n",
    "\n",
    "\n",
    "### DDP Wrap\n",
    "```\n",
    "device_ids = [0]\n",
    "model = DDP(model, device_ids=device_ids)\n",
    "```\n",
    "\n",
    "And finally, we need to enable the DistributedDataParallel framework. To do this, we are using the `DDP()` wrapper around the model, which is short for the PyTorch function `torch.nn.parallel.DistributedDataParallel`. There is a lot to know about this, but for our purposes the important thing is to understand that this allows the model training to run in parallel on our cluster. https://pytorch.org/docs/stable/notes/ddp.html\n",
    "***\n",
    "\n",
    "## Discussing DDP\n",
    "It's helpful to know what this framework is really doing under the hood.\n",
    "\n",
    "The official PyTorch documentation tells us this:\n",
    "\n",
    ">This container parallelizes the application of the given module by splitting the input across the specified devices by chunking in the batch dimension (other objects will be >copied once per device). In the forward pass, the module is replicated on each device, and each replica handles a portion of the input. During the backwards pass, gradients from >each replica are summed into the original module.\n",
    "\n",
    "Clear as mud, right? Let’s try to break it down.\n",
    "\n",
    ">This container parallelizes the application of the given module\n",
    "\n",
    "This is just indicating that we’re parallelizing a deep learning workflow — transfer learning in our case.\n",
    "\n",
    ">by splitting the input across the specified devices by chunking in the batch dimension\n",
    "\n",
    "Input for a transfer learning workflow is the dataset! Ok, so it is chunking our image batches and that’s what gets to be parallel.\n",
    "\n",
    ">(other objects will be copied once per device)\n",
    "\n",
    "Eg, our starting model, if any (Resnet50 for us) doesn’t get broken up at all. Good to know.\n",
    "\n",
    ">In the forward pass, the module is replicated on each device, and each replica handles a portion of the input.\n",
    "\n",
    "Ok, so the training task, our module, is replicated on each device. We have multiple copies of the job working simultaneously, and each one gets a chunk of the input images rather than the entire dataset.\n",
    "\n",
    ">During the backwards pass, gradients from each replica are summed into the original module.\n",
    "\n",
    "And then each of these duplicate tasks passes the results (the gradients) back home to the original! The learning is happening out in the workers/child processes, and then they all return the results to the original module/training process to be aggregated.\n",
    "\n",
    "The essential difference with DDP, then, is that it is optimized for multiple machines instead of a single machine with multiple threads. It’s able to communicate across difference machines effectively, so we can use a GPU cluster for our computation.\n",
    "\n",
    "For a more detailed discussion and more tips about this same workflow, [you can visit our blog to read more!](https://www.saturncloud.io/s/combining-dask-and-pytorch-for-better-faster-transfer-learning/)\n",
    "\n",
    "***\n"
   ]
  },
  {
   "cell_type": "markdown",
   "metadata": {},
   "source": [
    "## Launch Board\n",
    "\n",
    "### If you save files to S3\n",
    "Open a terminal on your local machine, run `tensorboard --logdir=s3://[NAMEOFBUCKET]/runs`. Ensure that your AWS creds are in your bash profile/environment.\n",
    "\n",
    "#### Example of creds you should have\n",
    "export AWS_SECRET_ACCESS_KEY=`your secret key`   \n",
    "export AWS_ACCESS_KEY_ID=`your access key id`   \n",
    "export S3_VERIFY_SSL=0  (may not be necessary depending on your bucket settings)   \n",
    "export S3_USE_HTTPS=0    \n",
    "export S3_REGION=us-east-2 `substitute your region`   \n",
    "export S3_ENDPOINT=https://s3.us-east-2.amazonaws.com `match to your region`   \n",
    "\n",
    "### If you save files locally\n",
    "\n",
    "When you are ready to start viewing the board, run this at the terminal inside Jupyter Labs:\n",
    "\n",
    "`tensorboard --logdir=runs`\n",
    "\n",
    "Then, in a terminal on your local machine, run: \n",
    "\n",
    "`ssh -L 6006:localhost:6006 -i ~/.ssh/PATHTOPRIVATEKEY SSHURLFORJUPYTER`\n",
    "\n",
    "You'll find the private key path on your local machine, and the SSH URL on the project page for this project. You can change the local port (the first 6006) if you like.\n",
    "\n",
    "At this stage, you'll likely not have any data, but the board will update itself every thirty seconds."
   ]
  },
  {
   "cell_type": "markdown",
   "metadata": {},
   "source": [
    "***\n",
    "\n",
    "\n",
    "## Training time!\n",
    "Our whole training process is going to be contained in one function, here named `run_transfer_learning`."
   ]
  },
  {
   "cell_type": "markdown",
   "metadata": {},
   "source": [
    "***\n",
    "\n",
    "## Modeling Step Functions\n",
    "\n",
    "Setting these pretty basic steps into functions just helps us ensure perfect parity between our train and evaluation steps."
   ]
  },
  {
   "cell_type": "code",
   "execution_count": 4,
   "metadata": {},
   "outputs": [],
   "source": [
    "def iterate_model(inputs, labels, model, device):\n",
    "    # Pass items to GPU\n",
    "    inputs = inputs.to(device)\n",
    "    labels = labels.to(device)\n",
    "\n",
    "    # Run model iteration\n",
    "    outputs = model(inputs)\n",
    "\n",
    "    # Format results\n",
    "    _, preds = torch.max(outputs, 1)\n",
    "    perct = [torch.nn.functional.softmax(el, dim=0)[i].item() for i, el in zip(preds, outputs)]\n",
    "    \n",
    "    return inputs, labels, outputs, preds, perct\n",
    "    \n",
    "def calculate_performance(outputs, labels, preds, criterion):\n",
    "    loss = criterion(outputs, labels)\n",
    "    correct = (preds == labels).sum().item()\n",
    "    \n",
    "    return loss, correct"
   ]
  },
  {
   "cell_type": "code",
   "execution_count": 5,
   "metadata": {},
   "outputs": [],
   "source": [
    "s3 = s3fs.S3FileSystem()\n",
    "\n",
    "with s3.open('s3://saturn-public-data/dogs/imagenet1000_clsidx_to_labels.txt') as f:\n",
    "    imagenetclasses = [line.strip() for line in f.readlines()]"
   ]
  },
  {
   "cell_type": "code",
   "execution_count": 6,
   "metadata": {},
   "outputs": [],
   "source": [
    "def run_transfer_learning(bucket, prefix, train_pct, batch_size, n_epochs, base_lr, imagenetclasses):\n",
    "    '''Load basic Resnet50, run transfer learning over given epochs.\n",
    "    Uses dataset from the path given as the pool from which to take the \n",
    "    training and evaluation samples.'''\n",
    "    \n",
    "    worker_rank = int(dist.get_rank())\n",
    "    \n",
    "    # Set results writer\n",
    "    writer = SummaryWriter(f's3://pytorchtraining/results_7worker_V100-2XL/learning_worker{worker_rank}')\n",
    "    executor = ThreadPoolExecutor(max_workers=64)\n",
    "    \n",
    "    # --------- Format model and params --------- #\n",
    "    device = torch.device(\"cuda\")\n",
    "    net = models.resnet50(pretrained=True)\n",
    "    model = net.to(device)\n",
    "    device_ids = [0]\n",
    "    model = DDP(model, device_ids=device_ids)\n",
    "    \n",
    "    criterion = nn.CrossEntropyLoss().cuda()    \n",
    "    lr = base_lr * dist.get_world_size()\n",
    "    optimizer = optim.SGD(model.parameters(), lr=lr, momentum=0.9)\n",
    "    scheduler = lr_scheduler.ReduceLROnPlateau(optimizer, mode = 'min', patience = 2)\n",
    "    \n",
    "    # --------- Retrieve data for training and eval --------- #\n",
    "    whole_dataset = prepro_batches(bucket, prefix)\n",
    "    new_class_to_idx = {x: int(replace_label(x, imagenetclasses)[1]) for x in whole_dataset.classes}\n",
    "    whole_dataset.class_to_idx = new_class_to_idx\n",
    "    \n",
    "    train, val = get_splits_parallel(train_pct, whole_dataset, batch_size=batch_size)\n",
    "    dataloaders = {'train' : train, 'val': val}\n",
    "\n",
    "    # --------- Start iterations --------- #\n",
    "    count = 0\n",
    "    t_count = 0\n",
    "    \n",
    "    for epoch in range(n_epochs):\n",
    "    # --------- Training section --------- #    \n",
    "        model.train()  # Set model to training mode\n",
    "        for inputs, labels in dataloaders[\"train\"]:\n",
    "            dt = datetime.datetime.now().isoformat()\n",
    "\n",
    "            inputs, labels, outputs, preds, perct = iterate_model(inputs, labels, model, device)\n",
    "            loss, correct = calculate_performance(outputs, labels, preds, criterion)\n",
    "            \n",
    "            # zero the parameter gradients\n",
    "            optimizer.zero_grad()\n",
    "            loss.backward()\n",
    "            optimizer.step()\n",
    "            count += 1\n",
    "            \n",
    "            # Track statistics\n",
    "            for param_group in optimizer.param_groups:\n",
    "                current_lr = param_group['lr']\n",
    "\n",
    "            if ((count % 3) == 0): \n",
    "                future = executor.submit(\n",
    "                    writer.add_scalars(f'training-worker{worker_rank}',\n",
    "                        {'lr': current_lr, \n",
    "                         'bsize': batch_size, \n",
    "                         'epoch': epoch,\n",
    "                         'hparam/correct': correct,\n",
    "                         'hparam/loss': loss.item()},\n",
    "                         global_step=count\n",
    "                    )\n",
    "                )\n",
    "                future = executor.submit(\n",
    "                    writer.add_pr_curve(\n",
    "                        'pr_curve-training', \n",
    "                        np.asarray([int(i==j) for i, j in zip(preds, labels)]), \n",
    "                        perct, \n",
    "                        global_step = count)\n",
    "                )\n",
    "\n",
    "            # Save a matplotlib figure showing a small sample of actual preds for spot check\n",
    "            # Writing these figures is slow, so recommend doing it infrequently if possible.\n",
    "            # Functions used here are in setup2.py\n",
    "            if ((count % 20) == 0):\n",
    "                future = executor.submit(\n",
    "                    writer.add_figure(\n",
    "                        'predictions vs. actuals, training',\n",
    "                        plot_classes_preds(model, inputs, labels, preds, perct, imagenetclasses),\n",
    "                        global_step=count\n",
    "                    )\n",
    "                )\n",
    "                \n",
    "            if (count % 100) == 0 and worker_rank == 0:\n",
    "                \n",
    "                pickle.dump(model.state_dict(), s3.open(f\"pytorchtraining/learning_model/model_epoch{epoch}_iter{count}_{dt}.pkl\",'wb'))\n",
    "                \n",
    "    # --------- Evaluation section --------- #   \n",
    "        with torch.no_grad():\n",
    "            model.eval()  # Set model to evaluation mode\n",
    "            for inputs_t, labels_t in dataloaders[\"val\"]:\n",
    "                dt = datetime.datetime.now().isoformat()\n",
    "                \n",
    "                inputs_t, labels_t, outputs_t, pred_t, perct_t = iterate_model(inputs_t, labels_t, model, device)\n",
    "                loss_t, correct_t = calculate_performance(outputs_t, labels_t, pred_t, criterion)\n",
    "                \n",
    "                t_count += 1\n",
    "\n",
    "                # Track statistics\n",
    "                for param_group in optimizer.param_groups:\n",
    "                    current_lr = param_group['lr']\n",
    "                \n",
    "                if ((t_count % 3) == 0):\n",
    "                    future = executor.submit(\n",
    "                        writer.add_scalars(f'eval-worker{worker_rank}',\n",
    "                            {'lr': current_lr, \n",
    "                             'bsize': batch_size, \n",
    "                             'epoch': epoch,\n",
    "                             'hparam/correct': correct_t,\n",
    "                             'hparam/loss': loss_t.item()},\n",
    "                             global_step= t_count\n",
    "                        )\n",
    "                    )\n",
    "                    future = executor.submit(\n",
    "                        writer.add_pr_curve(\n",
    "                            'pr_curve-eval', \n",
    "                            np.asarray([int(i==j) for i, j in zip(pred_t, labels_t)]),\n",
    "                            perct_t, \n",
    "                            global_step = t_count)\n",
    "                    )\n",
    "\n",
    "        scheduler.step(loss)"
   ]
  },
  {
   "cell_type": "markdown",
   "metadata": {},
   "source": [
    "Now we've done all the hard work, and just need to run our function! Using `dispatch.run` from `dask-pytorch-ddp`, we pass in the transfer learning function so that it gets distributed correctly across our cluster. This creates futures and starts computing them.\n",
    "\n",
    "### Define Model Parameters\n",
    "\n",
    "As with any PyTorch model, you'll want to define the epochs of training you plan to do, the batch size if using batches, and the starting learning rate. We're also able to assign the train/test split here because of how the functions above are written.\n",
    "\n",
    "(We're using only two epochs here to save time, but of course you can increase this.)"
   ]
  },
  {
   "cell_type": "code",
   "execution_count": 7,
   "metadata": {},
   "outputs": [],
   "source": [
    "startparams = {'n_epochs': 2, \n",
    "               'batch_size': 100,\n",
    "               'train_pct': .8,\n",
    "               'base_lr': 0.01,\n",
    "              'imagenetclasses':imagenetclasses}"
   ]
  },
  {
   "cell_type": "code",
   "execution_count": 8,
   "metadata": {},
   "outputs": [],
   "source": [
    "import math\n",
    "import numpy as np\n",
    "import multiprocessing as mp\n",
    "import datetime\n",
    "import json \n",
    "import pickle\n",
    "from concurrent.futures import ThreadPoolExecutor\n",
    "\n",
    "num_workers = 64"
   ]
  },
  {
   "cell_type": "markdown",
   "metadata": {},
   "source": [
    "## Kick Off Job"
   ]
  },
  {
   "cell_type": "markdown",
   "metadata": {},
   "source": [
    "### Send Tasks to Workers\n",
    " \n",
    "We talked in Notebook 2 about how we distribute tasks to the workers in our cluster, and now you get to see it firsthand. Inside the `dispatch.run()` function in `dask-pytorch-ddp`, we are actually using the `client.submit()` method to pass tasks to our workers, and collecting these as futures in a list. We can prove this by looking at the results, here named \"futures\", where we can see they are in fact all pending futures, one for each of the workers in our cluster.\n",
    "\n",
    "> Why don't we use `.map()` in this function?\n",
    "\n",
    "Recall that `.map` allows the Cluster to decide where the tasks are completed - it has the ability to choose which worker is assigned any task. That means that we don't have the control we need to ensure that we have one and only one job per GPU. This could be a problem for our methodology because of the use of DDP. \n",
    "\n",
    "Instead we use `.submit` and manually assign it to the workers by number. This way, each worker is attacking the same problem - our transfer learning problem - and pursuing a solution simultaneously. We'll have one and only one job per worker."
   ]
  },
  {
   "cell_type": "code",
   "execution_count": 9,
   "metadata": {},
   "outputs": [
    {
     "name": "stdout",
     "output_type": "stream",
     "text": [
      "CPU times: user 76 ms, sys: 0 ns, total: 76 ms\n",
      "Wall time: 75.2 ms\n"
     ]
    },
    {
     "data": {
      "text/plain": [
       "[<Future: pending, key: dispatch_with_ddp-e4cc9eaab7e4670f51230e7a254e648a>,\n",
       " <Future: pending, key: dispatch_with_ddp-7b6468b6d4b684e4ee5ae92458e657bc>,\n",
       " <Future: pending, key: dispatch_with_ddp-4930c35655fe687819bc732cf94f1bf7>,\n",
       " <Future: pending, key: dispatch_with_ddp-84e905b73d6f6550eff0e97755d97f24>,\n",
       " <Future: pending, key: dispatch_with_ddp-7c465eabaa44947a9e41ae96cabaf51c>,\n",
       " <Future: pending, key: dispatch_with_ddp-1dcbdd2518960ae2b6968af99ac676fa>,\n",
       " <Future: pending, key: dispatch_with_ddp-78670d7d462d27da7ae55031a4d636ea>]"
      ]
     },
     "execution_count": 9,
     "metadata": {},
     "output_type": "execute_result"
    }
   ],
   "source": [
    "%%time    \n",
    "futures = dispatch.run(client, run_transfer_learning, bucket = \"saturn-public-data\", prefix = \"dogs/Images\", **startparams)\n",
    "futures"
   ]
  },
  {
   "cell_type": "code",
   "execution_count": 10,
   "metadata": {},
   "outputs": [],
   "source": [
    "futures[0].result()"
   ]
  },
  {
   "cell_type": "code",
   "execution_count": 11,
   "metadata": {},
   "outputs": [
    {
     "data": {
      "text/html": [
       "\n",
       "<b>Cluster Dashboard links</b>\n",
       "<ul>\n",
       "<li><a href=\"https://d-steph-gpu-batch-inference-55feb18456de488295b5ddbe998c1abc.internal.saturnenterprise.io/status\" target=\"_blank\">CPU dashboard</a></li>\n",
       "<li><a href=\"https://d-steph-gpu-batch-inference-55feb18456de488295b5ddbe998c1abc.internal.saturnenterprise.io/individual-gpu-utilization\" target=\"_blank\">GPU utilization</a></li>\n",
       "<li><a href=\"https://d-steph-gpu-batch-inference-55feb18456de488295b5ddbe998c1abc.internal.saturnenterprise.io/individual-gpu-memory\" target=\"_blank\">GPU memory</a></li>\n",
       "</ul>\n"
      ],
      "text/plain": [
       "<IPython.core.display.HTML object>"
      ]
     },
     "metadata": {},
     "output_type": "display_data"
    }
   ],
   "source": [
    "display(HTML(gpu_links))"
   ]
  },
  {
   "cell_type": "markdown",
   "metadata": {},
   "source": [
    "<img src=\"https://media.giphy.com/media/VFDeGtRSHswfe/giphy.gif\" alt=\"parallel\" style=\"width: 200px;\"/>\n",
    "\n",
    "Now we let our workers run for awhile. This step will take time, so you may not be able to see the full results during our workshop. (In tests, it took about 13 minutes to do two epochs.) See the two links above to view the GPUs efforts as the job runs. This won't hold up your Jupyter environment here, but I promise the cluster is working hard!"
   ]
  },
  {
   "cell_type": "markdown",
   "metadata": {},
   "source": [
    "## Proof of Results\n",
    "\n",
    "We don't have the time today to run an assortment of different cluster sizes to see what works best, but I happen to have the results of those runs saved and visualized, to demonstrate how well it works! [Follow me to Notebook 7!](07-learning-results.ipynb)"
   ]
  },
  {
   "cell_type": "code",
   "execution_count": 12,
   "metadata": {},
   "outputs": [
    {
     "data": {
      "text/html": [
       "<table style=\"border: 2px solid white;\">\n",
       "<tr>\n",
       "<td style=\"vertical-align: top; border: 0px solid white\">\n",
       "<h3 style=\"text-align: left;\">Client</h3>\n",
       "<ul style=\"text-align: left; list-style: none; margin: 0; padding: 0;\">\n",
       "  <li><b>Scheduler: </b>tcp://d-steph-gpu-batch-inference-55feb18456de488295b5ddbe998c1abc.main-namespace:8786</li>\n",
       "  <li><b>Dashboard: </b><a href='https://d-steph-gpu-batch-inference-55feb18456de488295b5ddbe998c1abc.internal.saturnenterprise.io' target='_blank'>https://d-steph-gpu-batch-inference-55feb18456de488295b5ddbe998c1abc.internal.saturnenterprise.io</a></li>\n",
       "</ul>\n",
       "</td>\n",
       "<td style=\"vertical-align: top; border: 0px solid white\">\n",
       "<h3 style=\"text-align: left;\">Cluster</h3>\n",
       "<ul style=\"text-align: left; list-style:none; margin: 0; padding: 0;\">\n",
       "  <li><b>Workers: </b>7</li>\n",
       "  <li><b>Cores: </b>56</li>\n",
       "  <li><b>Memory: </b>423.50 GB</li>\n",
       "</ul>\n",
       "</td>\n",
       "</tr>\n",
       "</table>"
      ],
      "text/plain": [
       "<Client: 'tcp://10.0.9.0:8786' processes=0 threads=0, memory=0 B>"
      ]
     },
     "execution_count": 12,
     "metadata": {},
     "output_type": "execute_result"
    }
   ],
   "source": [
    "client.restart()"
   ]
  },
  {
   "cell_type": "code",
   "execution_count": null,
   "metadata": {},
   "outputs": [],
   "source": []
  }
 ],
 "metadata": {
  "kernelspec": {
   "display_name": "Python 3",
   "language": "python",
   "name": "python3"
  },
  "language_info": {
   "codemirror_mode": {
    "name": "ipython",
    "version": 3
   },
   "file_extension": ".py",
   "mimetype": "text/x-python",
   "name": "python",
   "nbconvert_exporter": "python",
   "pygments_lexer": "ipython3",
   "version": "3.7.7"
  }
 },
 "nbformat": 4,
 "nbformat_minor": 4
}

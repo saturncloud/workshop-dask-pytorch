{
 "cells": [
  {
   "cell_type": "markdown",
   "metadata": {},
   "source": [
    "<img src=\"img/saturn_logo.png\" width=\"300\" />\n",
    "\n",
    "# Set Up Training\n",
    "\n",
    "We don't need to run all of Notebook 5 again, we'll just call `setup2.py` in the next chunk to get ourselves back to the right state. This also includes the reindexing work from Notebook 5, and a couple of visualization functions that we'll talk about later.\n",
    "\n",
    "***\n",
    "**Note: This notebook assumes you have an S3 bucket where you can store your model performance statistics.**  \n",
    "If you don't have access to an S3 bucket, but would still like to train your model and review results, please visit [Notebook 6b](06b-transfer-training-local.ipynb) and [Notebook 7](07-learning-results.ipynb) to see detailed examples of how you can do that.\n",
    "***"
   ]
  },
  {
   "cell_type": "code",
   "execution_count": null,
   "metadata": {},
   "outputs": [],
   "source": [
    "%run -i setup2.py\n",
    "\n",
    "display(HTML(gpu_links))"
   ]
  },
  {
   "cell_type": "code",
   "execution_count": null,
   "metadata": {},
   "outputs": [],
   "source": [
    "import torch\n",
    "from tensorboardX import SummaryWriter\n",
    "\n",
    "from torch import nn, optim\n",
    "from torch.nn.parallel import DistributedDataParallel as DDP\n",
    "\n",
    "from torchvision import datasets, transforms, models\n",
    "from torch.utils.data import DataLoader\n",
    "from torch.utils.data.sampler import SubsetRandomSampler\n",
    "\n",
    "import torch.distributed as dist\n",
    "from torch.optim import lr_scheduler"
   ]
  },
  {
   "cell_type": "code",
   "execution_count": null,
   "metadata": {},
   "outputs": [],
   "source": [
    "client"
   ]
  },
  {
   "cell_type": "markdown",
   "metadata": {},
   "source": [
    "We're ready to do some learning! \n",
    "\n",
    "## Regular Model Details\n",
    "\n",
    "Aside from the Special Elements noted below, we can write this section essentially the same way we write any other PyTorch training loop. \n",
    "* Cross Entropy Loss for our loss function\n",
    "* SGD (Stochastic Gradient Descent) for our optimizer\n",
    "\n",
    "We're also using a particular learning rate scheduler called `ReduceLROnPlateau` which leaves our base learning rate alone until the model's efforts hit a plateau and the loss function is no longer decreasing.\n",
    "\n",
    "We have two stages in this process, as well - training and evaluation. We run the training set completely using batches of 100 before we move to the evaluation step, where we run the eval set completely also using batches of 100."
   ]
  },
  {
   "cell_type": "markdown",
   "metadata": {},
   "source": [
    "***\n",
    "\n",
    "## Special Elements\n",
    "\n",
    "Most of the training workflow function shown below is pretty standard for users of PyTorch. However, there are a couple of elements that are different.\n",
    "\n",
    "### Tensorboard Writer\n",
    "\n",
    "We're using Tensorboard to monitor the model's performance, so we'll create a SummaryWriter object in our training function, and use that to write out statistics and sample image classifications. "
   ]
  },
  {
   "cell_type": "markdown",
   "metadata": {},
   "source": [
    "\n",
    "### Worker Rank\n",
    "```\n",
    "worker_rank = int(dist.get_rank())\n",
    "```\n",
    "\n",
    "This is checking to see which of the workers in the cluster we're on. This way, our results records can tell which worker this performance represents.\n",
    "\n",
    "\n",
    "### Model to GPU Resources\n",
    "\n",
    "```\n",
    "device = torch.device(0)\n",
    "net = models.resnet50(pretrained=True)\n",
    "model = net.to(device)\n",
    "```\n",
    "\n",
    "As you'll recall from Notebook 4, we need to make sure our model is assigned to a GPU resource- here we do it one time before the training loops begin. We will also assign each image and its label to a GPU resource within the training and evaluation loops - see if you can find this spot, you need to fill in the blanks!\n",
    "\n",
    "\n",
    "### DDP Wrap\n",
    "```\n",
    "device_ids = [0]\n",
    "model = DDP(model, device_ids=device_ids)\n",
    "```\n",
    "\n",
    "And finally, we need to enable the DistributedDataParallel framework. To do this, we are using the `DDP()` wrapper around the model, which is short for the PyTorch function `torch.nn.parallel.DistributedDataParallel`. There is a lot to know about this, but for our purposes the important thing is to understand that this allows the model training to run in parallel on our cluster. https://pytorch.org/docs/stable/notes/ddp.html\n",
    "***\n",
    "\n",
    "## Discussing DDP\n",
    "It's helpful to know what this framework is really doing under the hood.\n",
    "\n",
    "The official PyTorch documentation tells us this:\n",
    "\n",
    ">This container parallelizes the application of the given module by splitting the input across the specified devices by chunking in the batch dimension (other objects will be copied once per device). In the forward pass, the module is replicated on each device, and each replica handles a portion of the input. During the backwards pass, gradients from each replica are summed into the original module.\n",
    "\n",
    "Clear as mud, right? Let’s try to break it down.\n",
    "\n",
    ">This container parallelizes the application of the given module\n",
    "\n",
    "This is just indicating that we’re parallelizing a deep learning workflow — transfer learning in our case.\n",
    "\n",
    ">by splitting the input across the specified devices by chunking in the batch dimension\n",
    "\n",
    "Input for a transfer learning workflow is the dataset! Ok, so it is chunking our image batches and that’s what gets to be parallel.\n",
    "\n",
    ">(other objects will be copied once per device)\n",
    "\n",
    "Eg, our starting model, if any (Resnet50 for us) doesn’t get broken up at all. Good to know.\n",
    "\n",
    ">In the forward pass, the module is replicated on each device, and each replica handles a portion of the input.\n",
    "\n",
    "Ok, so the training task, our module, is replicated on each device. We have multiple copies of the job working simultaneously, and each one gets a chunk of the input images rather than the entire dataset.\n",
    "\n",
    ">During the backwards pass, gradients from each replica are summed into the original module.\n",
    "\n",
    "And then each of these duplicate tasks passes the results (the gradients) back home to the original! The learning is happening out in the workers/child processes, and then they all return the results to the original module/training process to be aggregated.\n",
    "\n",
    "The essential difference with DDP, then, is that it is optimized for multiple machines instead of a single machine with multiple threads. It’s able to communicate across difference machines effectively, so we can use a GPU cluster for our computation.\n",
    "\n",
    "For a more detailed discussion and more tips about this same workflow, [you can visit our blog to read more!](https://www.saturncloud.io/s/combining-dask-and-pytorch-for-better-faster-transfer-learning/)\n",
    "\n",
    "***\n"
   ]
  },
  {
   "cell_type": "markdown",
   "metadata": {},
   "source": [
    "## Launch Board\n",
    "\n",
    "### If you save files to S3\n",
    "Open a terminal on your local machine, run `tensorboard --logdir=s3://[NAMEOFBUCKET]/runs`. Ensure that your AWS creds are in your bash profile/environment.\n",
    "\n",
    "#### Example of creds you should have\n",
    "export AWS_SECRET_ACCESS_KEY=`your secret key`   \n",
    "export AWS_ACCESS_KEY_ID=`your access key id`     \n",
    "export S3_REGION=us-east-2 `substitute your region`   \n",
    "export S3_ENDPOINT=https://s3.us-east-2.amazonaws.com `match to your region`   \n",
    "\n",
    "### If you save files locally\n",
    "\n",
    "When you are ready to start viewing the board, run this at the terminal inside Jupyter Labs:\n",
    "\n",
    "`tensorboard --logdir=runs`\n",
    "\n",
    "Then, in a terminal on your local machine, run: \n",
    "\n",
    "`ssh -L 6006:localhost:6006 -i ~/.ssh/PATHTOPRIVATEKEY SSHURLFORJUPYTER`\n",
    "\n",
    "You'll find the private key path on your local machine, and the SSH URL on the project page for this project. You can change the local port (the first 6006) if you like.\n",
    "\n",
    "At this stage, you'll likely not have any data, but the board will update itself every thirty seconds."
   ]
  },
  {
   "cell_type": "markdown",
   "metadata": {},
   "source": [
    "***\n",
    "\n",
    "\n",
    "# Training time!\n",
    "Our whole training process is going to be contained in one function, here named `run_transfer_learning`."
   ]
  },
  {
   "cell_type": "markdown",
   "metadata": {},
   "source": [
    "\n",
    "\n",
    "## Modeling Step Functions\n",
    "\n",
    "Setting these pretty basic steps into functions just helps us ensure perfect parity between our train and evaluation steps."
   ]
  },
  {
   "cell_type": "code",
   "execution_count": null,
   "metadata": {},
   "outputs": [],
   "source": [
    "def iterate_model(inputs, labels, model, device):\n",
    "    # Pass items to GPU\n",
    "    inputs = inputs.to(device)\n",
    "    labels = labels.to(device)\n",
    "\n",
    "    # Run model iteration\n",
    "    outputs = model(inputs)\n",
    "\n",
    "    # Format results\n",
    "    _, preds = torch.max(outputs, 1)\n",
    "    perct = [torch.nn.functional.softmax(el, dim=0)[i].item() for i, el in zip(preds, outputs)]\n",
    "    \n",
    "    return inputs, labels, outputs, preds, perct\n",
    "    \n",
    "def calculate_performance(outputs, labels, preds, criterion):\n",
    "    loss = criterion(outputs, labels)\n",
    "    correct = (preds == labels).sum().item()\n",
    "    \n",
    "    return loss, correct"
   ]
  },
  {
   "cell_type": "code",
   "execution_count": null,
   "metadata": {},
   "outputs": [],
   "source": [
    "s3 = s3fs.S3FileSystem()\n",
    "\n",
    "with s3.open('s3://saturn-public-data/dogs/imagenet1000_clsidx_to_labels.txt') as f:\n",
    "    imagenetclasses = [line.strip() for line in f.readlines()]"
   ]
  },
  {
   "cell_type": "code",
   "execution_count": null,
   "metadata": {},
   "outputs": [],
   "source": [
    "def run_transfer_learning(bucket, prefix, train_pct, batch_size, n_epochs, base_lr, imagenetclasses, n_workers = 1, subset = False):\n",
    "    '''Load basic Resnet50, run transfer learning over given epochs.\n",
    "    Uses dataset from the path given as the pool from which to take the \n",
    "    training and evaluation samples.'''\n",
    "    \n",
    "    worker_rank = int(dist.get_rank())\n",
    "    \n",
    "    # Set results writer\n",
    "    writer = SummaryWriter(f's3://pytorchtraining/pytorch_workshop/learning_worker{worker_rank}')\n",
    "    executor = ThreadPoolExecutor(max_workers=64)\n",
    "    \n",
    "    # --------- Format model and params --------- #\n",
    "    device = torch.device(\"cuda\")\n",
    "    net = models.resnet50(pretrained=True) # True means we start with the imagenet version\n",
    "    model = net.to(device)\n",
    "    model = DDP(model)\n",
    "    \n",
    "    criterion = nn.CrossEntropyLoss().cuda()    \n",
    "    lr = base_lr\n",
    "    optimizer = optim.SGD(model.parameters(), lr=lr, momentum=0.9)\n",
    "    scheduler = lr_scheduler.ReduceLROnPlateau(optimizer, mode = 'min', patience = 2)\n",
    "    \n",
    "    # --------- Retrieve data for training and eval --------- #\n",
    "    whole_dataset = prepro_batches(bucket, prefix)\n",
    "    new_class_to_idx = {x: int(replace_label(x, imagenetclasses)[1]) for x in whole_dataset.classes}\n",
    "    whole_dataset.class_to_idx = new_class_to_idx\n",
    "    \n",
    "    train, val = get_splits_parallel(train_pct, whole_dataset, batch_size=batch_size, subset = subset, workers = n_workers)\n",
    "    dataloaders = {'train' : train, 'val': val}\n",
    "\n",
    "    # --------- Start iterations --------- #\n",
    "    count = 0\n",
    "    t_count = 0\n",
    "    \n",
    "    for epoch in range(n_epochs):\n",
    "    # --------- Training section --------- #    \n",
    "        model.train()  # Set model to training mode\n",
    "        for inputs, labels in dataloaders[\"train\"]:\n",
    "            dt = datetime.datetime.now().isoformat()\n",
    "\n",
    "            inputs, labels, outputs, preds, perct = iterate_model(inputs, labels, model, device)\n",
    "            loss, correct = calculate_performance(outputs, labels, preds, criterion)\n",
    "            \n",
    "            # zero the parameter gradients\n",
    "            optimizer.zero_grad()\n",
    "            loss.backward()\n",
    "            optimizer.step()\n",
    "            count += 1\n",
    "            \n",
    "            # Track statistics\n",
    "            for param_group in optimizer.param_groups:\n",
    "                current_lr = param_group['lr']\n",
    "\n",
    "            if ((count % 3) == 0): \n",
    "                future = executor.submit(\n",
    "                    writer.add_scalars(f'training-count',\n",
    "                        {'hparam/lr': current_lr, \n",
    "                         'hparam/batchsize': batch_size, \n",
    "                         'metric/correct': correct,\n",
    "                         'metric/loss': loss.item(),\n",
    "                         'hparam/worker': worker_rank},\n",
    "                         global_step=count\n",
    "                    )\n",
    "                )\n",
    "\n",
    "            # Save a matplotlib figure showing a small sample of actual preds for spot check\n",
    "            # Functions used here are in setup2.py\n",
    "            if ((count % 10) == 0):\n",
    "                future = executor.submit(\n",
    "                    writer.add_figure(\n",
    "                        'predictions vs. actuals, training',\n",
    "                        plot_classes_preds(model, inputs, labels, preds, perct, imagenetclasses),\n",
    "                        global_step=count\n",
    "                    )\n",
    "                )\n",
    "                \n",
    "            if (count % 50) == 0 and worker_rank == 0:\n",
    "                pickle.dump(model.state_dict(), s3.open(f\"pytorchtraining/pytorch_workshop/model_epoch{epoch}_iter{count}_{dt}.pkl\",'wb'))\n",
    "                \n",
    "    # --------- Evaluation section --------- #   \n",
    "        with torch.no_grad():\n",
    "            model.eval()  # Set model to evaluation mode\n",
    "            for inputs_t, labels_t in dataloaders[\"val\"]:\n",
    "                dt = datetime.datetime.now().isoformat()\n",
    "                \n",
    "                inputs_t, labels_t, outputs_t, pred_t, perct_t = iterate_model(inputs_t, labels_t, model, device)\n",
    "                loss_t, correct_t = calculate_performance(outputs_t, labels_t, pred_t, criterion)\n",
    "                \n",
    "                t_count += 1\n",
    "\n",
    "                # Track statistics\n",
    "                for param_group in optimizer.param_groups:\n",
    "                    current_lr = param_group['lr']\n",
    "                \n",
    "                if ((t_count % 3) == 0):\n",
    "                    future = executor.submit(\n",
    "                        writer.add_scalars(f'eval-count',\n",
    "                            {'hparam/lr': current_lr,\n",
    "                             'hparam/batchsize': batch_size,  \n",
    "                             'metric/correct': correct_t,\n",
    "                             'metric/loss': loss_t.item(),\n",
    "                             'hparam/worker': worker_rank},\n",
    "                             global_step= t_count\n",
    "                        )\n",
    "                    )\n",
    "\n",
    "        scheduler.step(loss)\n",
    "        \n",
    "        future = executor.submit(\n",
    "            writer.add_scalars(f'training-epoch',\n",
    "                {'hparam/lr': current_lr, \n",
    "                 'hparam/batchsize': batch_size, \n",
    "                 'metric/correct': correct,\n",
    "                 'metric/loss': loss.item(),\n",
    "                 'hparam/worker': worker_rank},\n",
    "                 global_step=epoch\n",
    "            )\n",
    "        )\n",
    "\n",
    "        future = executor.submit(\n",
    "            writer.add_scalars(f'eval-epoch',\n",
    "                {'hparam/lr': current_lr, \n",
    "                 'hparam/batchsize': batch_size, \n",
    "                 'metric/correct': correct_t,\n",
    "                 'metric/loss': loss_t.item(),\n",
    "                 'hparam/worker': worker_rank},\n",
    "                 global_step=epoch\n",
    "            )\n",
    "        )"
   ]
  },
  {
   "cell_type": "markdown",
   "metadata": {},
   "source": [
    "###### \n",
    "Now we've done all the hard work, and just need to run our function! Using `dispatch.run` from `dask-pytorch-ddp`, we pass in the transfer learning function so that it gets distributed correctly across our cluster. This creates futures and starts computing them.\n",
    "\n",
    "### Define Model Parameters\n",
    "\n",
    "As with any PyTorch model, you'll want to define the epochs of training you plan to do, the batch size if using batches, and the starting learning rate. We're also able to assign the train/test split here because of how the functions above are written.\n",
    "\n",
    "(We're using only 6 epochs here to save time, but of course you can increase this.)"
   ]
  },
  {
   "cell_type": "code",
   "execution_count": null,
   "metadata": {},
   "outputs": [],
   "source": [
    "import math\n",
    "import numpy as np\n",
    "import multiprocessing as mp\n",
    "import datetime\n",
    "import json \n",
    "import pickle\n",
    "from concurrent.futures import ThreadPoolExecutor\n",
    "\n",
    "num_workers = 64\n",
    "client.restart()"
   ]
  },
  {
   "cell_type": "code",
   "execution_count": null,
   "metadata": {},
   "outputs": [],
   "source": [
    "startparams = {'n_epochs': 6, \n",
    "                'batch_size': math.ceil(100/3),\n",
    "                'train_pct': .8,\n",
    "                'base_lr': 0.01,\n",
    "                'imagenetclasses':imagenetclasses,\n",
    "                'subset': True,\n",
    "                'n_workers': 3} #only necessary if you select subset"
   ]
  },
  {
   "cell_type": "markdown",
   "metadata": {},
   "source": [
    "## Kick Off Job"
   ]
  },
  {
   "cell_type": "markdown",
   "metadata": {},
   "source": [
    "### Send Tasks to Workers\n",
    " \n",
    "We talked in Notebook 2 about how we distribute tasks to the workers in our cluster, and now you get to see it firsthand. Inside the `dispatch.run()` function in `dask-pytorch-ddp`, we are actually using the `client.submit()` method to pass tasks to our workers, and collecting these as futures in a list. We can prove this by looking at the results, here named \"futures\", where we can see they are in fact all pending futures, one for each of the workers in our cluster.\n",
    "\n",
    "> Why don't we use `.map()` in this function?\n",
    "\n",
    "Recall that `.map` allows the Cluster to decide where the tasks are completed - it has the ability to choose which worker is assigned any task. That means that we don't have the control we need to ensure that we have one and only one job per GPU. This could be a problem for our methodology because of the use of DDP. \n",
    "\n",
    "Instead we use `.submit` and manually assign it to the workers by number. This way, each worker is attacking the same problem - our transfer learning problem - and pursuing a solution simultaneously. We'll have one and only one job per worker."
   ]
  },
  {
   "cell_type": "code",
   "execution_count": null,
   "metadata": {},
   "outputs": [],
   "source": [
    "%%time    \n",
    "futures = dispatch.run(client, run_transfer_learning, bucket = \"saturn-public-data\", prefix = \"dogs/Images\", **startparams)\n",
    "futures"
   ]
  },
  {
   "cell_type": "code",
   "execution_count": null,
   "metadata": {},
   "outputs": [],
   "source": [
    "futures"
   ]
  },
  {
   "cell_type": "code",
   "execution_count": null,
   "metadata": {},
   "outputs": [],
   "source": [
    "futures[0].result()"
   ]
  },
  {
   "cell_type": "code",
   "execution_count": null,
   "metadata": {},
   "outputs": [],
   "source": [
    "display(HTML(gpu_links))"
   ]
  },
  {
   "cell_type": "markdown",
   "metadata": {},
   "source": [
    "<img src=\"https://media.giphy.com/media/VFDeGtRSHswfe/giphy.gif\" alt=\"parallel\" style=\"width: 200px;\"/>\n",
    "\n",
    "Now we let our workers run for awhile. This step will take time, so you may not be able to see the full results during our workshop. See the two links above to view the GPUs efforts as the job runs. This won't hold up your Jupyter environment here, but I promise the cluster is working hard!\n",
    "\n",
    "***\n",
    "\n",
    "If you don't have access to an S3 bucket, but would still like to do model performance review, please visit [Notebook 6b](06b-transfer-training-local.ipynb) and [Notebook 7](07-learning-results.ipynb) to see detailed examples of how you can do that."
   ]
  },
  {
   "cell_type": "code",
   "execution_count": null,
   "metadata": {},
   "outputs": [],
   "source": []
  }
 ],
 "metadata": {
  "kernelspec": {
   "display_name": "saturn (Python 3)",
   "language": "python",
   "name": "python3"
  },
  "language_info": {
   "codemirror_mode": {
    "name": "ipython",
    "version": 3
   },
   "file_extension": ".py",
   "mimetype": "text/x-python",
   "name": "python",
   "nbconvert_exporter": "python",
   "pygments_lexer": "ipython3",
   "version": "3.7.7"
  }
 },
 "nbformat": 4,
 "nbformat_minor": 4
}
